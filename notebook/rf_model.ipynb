{
 "cells": [
  {
   "cell_type": "code",
   "execution_count": 2,
   "id": "2818b7d8",
   "metadata": {},
   "outputs": [
    {
     "name": "stdout",
     "output_type": "stream",
     "text": [
      "/Users/yu-lin.huang/git/test-airflow\n"
     ]
    }
   ],
   "source": [
    "cd .."
   ]
  },
  {
   "cell_type": "code",
   "execution_count": 1,
   "id": "d44a7c33",
   "metadata": {},
   "outputs": [],
   "source": [
    "import pandas as pd"
   ]
  },
  {
   "cell_type": "code",
   "execution_count": 39,
   "id": "3a77c83a",
   "metadata": {},
   "outputs": [],
   "source": [
    "from sklearn.ensemble import RandomForestClassifier\n",
    "from sklearn.model_selection import train_test_split\n",
    "from sklearn.metrics import mean_absolute_error"
   ]
  },
  {
   "cell_type": "code",
   "execution_count": 25,
   "id": "7a170db8",
   "metadata": {},
   "outputs": [],
   "source": [
    "df = pd.read_csv('data/processed/lcld_v2.csv')"
   ]
  },
  {
   "cell_type": "code",
   "execution_count": 26,
   "id": "e41e3010",
   "metadata": {},
   "outputs": [
    {
     "data": {
      "text/html": [
       "<div>\n",
       "<style scoped>\n",
       "    .dataframe tbody tr th:only-of-type {\n",
       "        vertical-align: middle;\n",
       "    }\n",
       "\n",
       "    .dataframe tbody tr th {\n",
       "        vertical-align: top;\n",
       "    }\n",
       "\n",
       "    .dataframe thead th {\n",
       "        text-align: right;\n",
       "    }\n",
       "</style>\n",
       "<table border=\"1\" class=\"dataframe\">\n",
       "  <thead>\n",
       "    <tr style=\"text-align: right;\">\n",
       "      <th></th>\n",
       "      <th>loan_amnt</th>\n",
       "      <th>term</th>\n",
       "      <th>int_rate</th>\n",
       "      <th>installment</th>\n",
       "      <th>sub_grade</th>\n",
       "      <th>emp_length</th>\n",
       "      <th>home_ownership</th>\n",
       "      <th>annual_inc</th>\n",
       "      <th>verification_status</th>\n",
       "      <th>issue_d</th>\n",
       "      <th>...</th>\n",
       "      <th>pub_rec_bankruptcies</th>\n",
       "      <th>fico_score</th>\n",
       "      <th>month_of_year</th>\n",
       "      <th>ratio_loan_amnt_annual_inc</th>\n",
       "      <th>ratio_open_acc_total_acc</th>\n",
       "      <th>month_since_earliest_cr_line</th>\n",
       "      <th>ratio_pub_rec_month_since_earliest_cr_line</th>\n",
       "      <th>ratio_pub_rec_bankruptcies_month_since_earliest_cr_line</th>\n",
       "      <th>ratio_pub_rec_bankruptcies_pub_rec</th>\n",
       "      <th>charged_off</th>\n",
       "    </tr>\n",
       "  </thead>\n",
       "  <tbody>\n",
       "    <tr>\n",
       "      <th>0</th>\n",
       "      <td>4000.0</td>\n",
       "      <td>36</td>\n",
       "      <td>9.76</td>\n",
       "      <td>128.62</td>\n",
       "      <td>5</td>\n",
       "      <td>10</td>\n",
       "      <td>2</td>\n",
       "      <td>90000.0</td>\n",
       "      <td>2</td>\n",
       "      <td>2012-03-01</td>\n",
       "      <td>...</td>\n",
       "      <td>0</td>\n",
       "      <td>752.0</td>\n",
       "      <td>2</td>\n",
       "      <td>0.044444</td>\n",
       "      <td>0.600000</td>\n",
       "      <td>432</td>\n",
       "      <td>0.0</td>\n",
       "      <td>0.0</td>\n",
       "      <td>-1.0</td>\n",
       "      <td>0</td>\n",
       "    </tr>\n",
       "    <tr>\n",
       "      <th>1</th>\n",
       "      <td>28000.0</td>\n",
       "      <td>36</td>\n",
       "      <td>8.90</td>\n",
       "      <td>889.09</td>\n",
       "      <td>4</td>\n",
       "      <td>7</td>\n",
       "      <td>0</td>\n",
       "      <td>110000.0</td>\n",
       "      <td>1</td>\n",
       "      <td>2012-03-01</td>\n",
       "      <td>...</td>\n",
       "      <td>0</td>\n",
       "      <td>802.0</td>\n",
       "      <td>2</td>\n",
       "      <td>0.254545</td>\n",
       "      <td>0.238095</td>\n",
       "      <td>226</td>\n",
       "      <td>0.0</td>\n",
       "      <td>0.0</td>\n",
       "      <td>-1.0</td>\n",
       "      <td>1</td>\n",
       "    </tr>\n",
       "    <tr>\n",
       "      <th>2</th>\n",
       "      <td>7100.0</td>\n",
       "      <td>36</td>\n",
       "      <td>6.03</td>\n",
       "      <td>216.10</td>\n",
       "      <td>0</td>\n",
       "      <td>5</td>\n",
       "      <td>1</td>\n",
       "      <td>65000.0</td>\n",
       "      <td>0</td>\n",
       "      <td>2012-03-01</td>\n",
       "      <td>...</td>\n",
       "      <td>0</td>\n",
       "      <td>752.0</td>\n",
       "      <td>2</td>\n",
       "      <td>0.109231</td>\n",
       "      <td>0.300000</td>\n",
       "      <td>183</td>\n",
       "      <td>0.0</td>\n",
       "      <td>0.0</td>\n",
       "      <td>-1.0</td>\n",
       "      <td>0</td>\n",
       "    </tr>\n",
       "    <tr>\n",
       "      <th>3</th>\n",
       "      <td>24000.0</td>\n",
       "      <td>36</td>\n",
       "      <td>6.62</td>\n",
       "      <td>736.89</td>\n",
       "      <td>1</td>\n",
       "      <td>10</td>\n",
       "      <td>0</td>\n",
       "      <td>85000.0</td>\n",
       "      <td>2</td>\n",
       "      <td>2012-03-01</td>\n",
       "      <td>...</td>\n",
       "      <td>0</td>\n",
       "      <td>772.0</td>\n",
       "      <td>2</td>\n",
       "      <td>0.282353</td>\n",
       "      <td>0.315789</td>\n",
       "      <td>215</td>\n",
       "      <td>0.0</td>\n",
       "      <td>0.0</td>\n",
       "      <td>-1.0</td>\n",
       "      <td>0</td>\n",
       "    </tr>\n",
       "    <tr>\n",
       "      <th>4</th>\n",
       "      <td>6100.0</td>\n",
       "      <td>60</td>\n",
       "      <td>15.81</td>\n",
       "      <td>147.73</td>\n",
       "      <td>13</td>\n",
       "      <td>4</td>\n",
       "      <td>1</td>\n",
       "      <td>55000.0</td>\n",
       "      <td>2</td>\n",
       "      <td>2012-03-01</td>\n",
       "      <td>...</td>\n",
       "      <td>0</td>\n",
       "      <td>712.0</td>\n",
       "      <td>2</td>\n",
       "      <td>0.110909</td>\n",
       "      <td>0.520000</td>\n",
       "      <td>143</td>\n",
       "      <td>0.0</td>\n",
       "      <td>0.0</td>\n",
       "      <td>-1.0</td>\n",
       "      <td>0</td>\n",
       "    </tr>\n",
       "    <tr>\n",
       "      <th>...</th>\n",
       "      <td>...</td>\n",
       "      <td>...</td>\n",
       "      <td>...</td>\n",
       "      <td>...</td>\n",
       "      <td>...</td>\n",
       "      <td>...</td>\n",
       "      <td>...</td>\n",
       "      <td>...</td>\n",
       "      <td>...</td>\n",
       "      <td>...</td>\n",
       "      <td>...</td>\n",
       "      <td>...</td>\n",
       "      <td>...</td>\n",
       "      <td>...</td>\n",
       "      <td>...</td>\n",
       "      <td>...</td>\n",
       "      <td>...</td>\n",
       "      <td>...</td>\n",
       "      <td>...</td>\n",
       "      <td>...</td>\n",
       "      <td>...</td>\n",
       "    </tr>\n",
       "    <tr>\n",
       "      <th>1220087</th>\n",
       "      <td>9600.0</td>\n",
       "      <td>36</td>\n",
       "      <td>12.98</td>\n",
       "      <td>323.37</td>\n",
       "      <td>9</td>\n",
       "      <td>10</td>\n",
       "      <td>1</td>\n",
       "      <td>75000.0</td>\n",
       "      <td>1</td>\n",
       "      <td>2018-12-01</td>\n",
       "      <td>...</td>\n",
       "      <td>0</td>\n",
       "      <td>737.0</td>\n",
       "      <td>11</td>\n",
       "      <td>0.128000</td>\n",
       "      <td>0.405405</td>\n",
       "      <td>133</td>\n",
       "      <td>0.0</td>\n",
       "      <td>0.0</td>\n",
       "      <td>-1.0</td>\n",
       "      <td>0</td>\n",
       "    </tr>\n",
       "    <tr>\n",
       "      <th>1220088</th>\n",
       "      <td>20000.0</td>\n",
       "      <td>36</td>\n",
       "      <td>7.02</td>\n",
       "      <td>617.73</td>\n",
       "      <td>1</td>\n",
       "      <td>0</td>\n",
       "      <td>1</td>\n",
       "      <td>97000.0</td>\n",
       "      <td>0</td>\n",
       "      <td>2018-12-01</td>\n",
       "      <td>...</td>\n",
       "      <td>0</td>\n",
       "      <td>742.0</td>\n",
       "      <td>11</td>\n",
       "      <td>0.206186</td>\n",
       "      <td>0.529412</td>\n",
       "      <td>183</td>\n",
       "      <td>0.0</td>\n",
       "      <td>0.0</td>\n",
       "      <td>-1.0</td>\n",
       "      <td>0</td>\n",
       "    </tr>\n",
       "    <tr>\n",
       "      <th>1220089</th>\n",
       "      <td>8500.0</td>\n",
       "      <td>36</td>\n",
       "      <td>8.19</td>\n",
       "      <td>267.11</td>\n",
       "      <td>3</td>\n",
       "      <td>0</td>\n",
       "      <td>0</td>\n",
       "      <td>75000.0</td>\n",
       "      <td>0</td>\n",
       "      <td>2018-12-01</td>\n",
       "      <td>...</td>\n",
       "      <td>0</td>\n",
       "      <td>737.0</td>\n",
       "      <td>11</td>\n",
       "      <td>0.113333</td>\n",
       "      <td>0.208333</td>\n",
       "      <td>152</td>\n",
       "      <td>0.0</td>\n",
       "      <td>0.0</td>\n",
       "      <td>-1.0</td>\n",
       "      <td>0</td>\n",
       "    </tr>\n",
       "    <tr>\n",
       "      <th>1220090</th>\n",
       "      <td>6000.0</td>\n",
       "      <td>36</td>\n",
       "      <td>10.33</td>\n",
       "      <td>194.54</td>\n",
       "      <td>5</td>\n",
       "      <td>10</td>\n",
       "      <td>1</td>\n",
       "      <td>54000.0</td>\n",
       "      <td>1</td>\n",
       "      <td>2018-12-01</td>\n",
       "      <td>...</td>\n",
       "      <td>0</td>\n",
       "      <td>697.0</td>\n",
       "      <td>11</td>\n",
       "      <td>0.111111</td>\n",
       "      <td>0.500000</td>\n",
       "      <td>321</td>\n",
       "      <td>0.0</td>\n",
       "      <td>0.0</td>\n",
       "      <td>-1.0</td>\n",
       "      <td>0</td>\n",
       "    </tr>\n",
       "    <tr>\n",
       "      <th>1220091</th>\n",
       "      <td>8425.0</td>\n",
       "      <td>36</td>\n",
       "      <td>27.27</td>\n",
       "      <td>345.18</td>\n",
       "      <td>24</td>\n",
       "      <td>3</td>\n",
       "      <td>0</td>\n",
       "      <td>450000.0</td>\n",
       "      <td>2</td>\n",
       "      <td>2018-12-01</td>\n",
       "      <td>...</td>\n",
       "      <td>0</td>\n",
       "      <td>687.0</td>\n",
       "      <td>11</td>\n",
       "      <td>0.018722</td>\n",
       "      <td>0.567568</td>\n",
       "      <td>254</td>\n",
       "      <td>0.0</td>\n",
       "      <td>0.0</td>\n",
       "      <td>-1.0</td>\n",
       "      <td>0</td>\n",
       "    </tr>\n",
       "  </tbody>\n",
       "</table>\n",
       "<p>1220092 rows × 30 columns</p>\n",
       "</div>"
      ],
      "text/plain": [
       "         loan_amnt  term  int_rate  installment  sub_grade  emp_length  \\\n",
       "0           4000.0    36      9.76       128.62          5          10   \n",
       "1          28000.0    36      8.90       889.09          4           7   \n",
       "2           7100.0    36      6.03       216.10          0           5   \n",
       "3          24000.0    36      6.62       736.89          1          10   \n",
       "4           6100.0    60     15.81       147.73         13           4   \n",
       "...            ...   ...       ...          ...        ...         ...   \n",
       "1220087     9600.0    36     12.98       323.37          9          10   \n",
       "1220088    20000.0    36      7.02       617.73          1           0   \n",
       "1220089     8500.0    36      8.19       267.11          3           0   \n",
       "1220090     6000.0    36     10.33       194.54          5          10   \n",
       "1220091     8425.0    36     27.27       345.18         24           3   \n",
       "\n",
       "         home_ownership  annual_inc  verification_status     issue_d  ...  \\\n",
       "0                     2     90000.0                    2  2012-03-01  ...   \n",
       "1                     0    110000.0                    1  2012-03-01  ...   \n",
       "2                     1     65000.0                    0  2012-03-01  ...   \n",
       "3                     0     85000.0                    2  2012-03-01  ...   \n",
       "4                     1     55000.0                    2  2012-03-01  ...   \n",
       "...                 ...         ...                  ...         ...  ...   \n",
       "1220087               1     75000.0                    1  2018-12-01  ...   \n",
       "1220088               1     97000.0                    0  2018-12-01  ...   \n",
       "1220089               0     75000.0                    0  2018-12-01  ...   \n",
       "1220090               1     54000.0                    1  2018-12-01  ...   \n",
       "1220091               0    450000.0                    2  2018-12-01  ...   \n",
       "\n",
       "         pub_rec_bankruptcies  fico_score  month_of_year  \\\n",
       "0                           0       752.0              2   \n",
       "1                           0       802.0              2   \n",
       "2                           0       752.0              2   \n",
       "3                           0       772.0              2   \n",
       "4                           0       712.0              2   \n",
       "...                       ...         ...            ...   \n",
       "1220087                     0       737.0             11   \n",
       "1220088                     0       742.0             11   \n",
       "1220089                     0       737.0             11   \n",
       "1220090                     0       697.0             11   \n",
       "1220091                     0       687.0             11   \n",
       "\n",
       "         ratio_loan_amnt_annual_inc  ratio_open_acc_total_acc  \\\n",
       "0                          0.044444                  0.600000   \n",
       "1                          0.254545                  0.238095   \n",
       "2                          0.109231                  0.300000   \n",
       "3                          0.282353                  0.315789   \n",
       "4                          0.110909                  0.520000   \n",
       "...                             ...                       ...   \n",
       "1220087                    0.128000                  0.405405   \n",
       "1220088                    0.206186                  0.529412   \n",
       "1220089                    0.113333                  0.208333   \n",
       "1220090                    0.111111                  0.500000   \n",
       "1220091                    0.018722                  0.567568   \n",
       "\n",
       "         month_since_earliest_cr_line  \\\n",
       "0                                 432   \n",
       "1                                 226   \n",
       "2                                 183   \n",
       "3                                 215   \n",
       "4                                 143   \n",
       "...                               ...   \n",
       "1220087                           133   \n",
       "1220088                           183   \n",
       "1220089                           152   \n",
       "1220090                           321   \n",
       "1220091                           254   \n",
       "\n",
       "         ratio_pub_rec_month_since_earliest_cr_line  \\\n",
       "0                                               0.0   \n",
       "1                                               0.0   \n",
       "2                                               0.0   \n",
       "3                                               0.0   \n",
       "4                                               0.0   \n",
       "...                                             ...   \n",
       "1220087                                         0.0   \n",
       "1220088                                         0.0   \n",
       "1220089                                         0.0   \n",
       "1220090                                         0.0   \n",
       "1220091                                         0.0   \n",
       "\n",
       "         ratio_pub_rec_bankruptcies_month_since_earliest_cr_line  \\\n",
       "0                                                      0.0         \n",
       "1                                                      0.0         \n",
       "2                                                      0.0         \n",
       "3                                                      0.0         \n",
       "4                                                      0.0         \n",
       "...                                                    ...         \n",
       "1220087                                                0.0         \n",
       "1220088                                                0.0         \n",
       "1220089                                                0.0         \n",
       "1220090                                                0.0         \n",
       "1220091                                                0.0         \n",
       "\n",
       "         ratio_pub_rec_bankruptcies_pub_rec  charged_off  \n",
       "0                                      -1.0            0  \n",
       "1                                      -1.0            1  \n",
       "2                                      -1.0            0  \n",
       "3                                      -1.0            0  \n",
       "4                                      -1.0            0  \n",
       "...                                     ...          ...  \n",
       "1220087                                -1.0            0  \n",
       "1220088                                -1.0            0  \n",
       "1220089                                -1.0            0  \n",
       "1220090                                -1.0            0  \n",
       "1220091                                -1.0            0  \n",
       "\n",
       "[1220092 rows x 30 columns]"
      ]
     },
     "execution_count": 26,
     "metadata": {},
     "output_type": "execute_result"
    }
   ],
   "source": [
    "df"
   ]
  },
  {
   "cell_type": "code",
   "execution_count": 47,
   "id": "f1e9494e",
   "metadata": {},
   "outputs": [],
   "source": [
    "rf_parameters = {\n",
    "            \"n_estimators\": 125,\n",
    "            \"min_samples_split\": 6,\n",
    "            \"min_samples_leaf\": 2,\n",
    "            \"max_depth\": 10,\n",
    "            \"bootstrap\": True,\n",
    "            \"class_weight\": \"balanced\",\n",
    "        }\n"
   ]
  },
  {
   "cell_type": "code",
   "execution_count": 48,
   "id": "7bcf64ac",
   "metadata": {},
   "outputs": [],
   "source": [
    "model = RandomForestClassifier(\n",
    "            **rf_parameters,\n",
    "            random_state=42,\n",
    "            n_jobs=5,\n",
    "        )"
   ]
  },
  {
   "cell_type": "code",
   "execution_count": 27,
   "id": "576a403b",
   "metadata": {},
   "outputs": [],
   "source": [
    "df.drop('issue_d', axis=1, inplace=True)"
   ]
  },
  {
   "cell_type": "code",
   "execution_count": 28,
   "id": "5bb4ae4b",
   "metadata": {},
   "outputs": [],
   "source": [
    "feature = df.columns[:-1]"
   ]
  },
  {
   "cell_type": "code",
   "execution_count": 29,
   "id": "1831a591",
   "metadata": {},
   "outputs": [
    {
     "data": {
      "text/plain": [
       "Index(['loan_amnt', 'term', 'int_rate', 'installment', 'sub_grade',\n",
       "       'emp_length', 'home_ownership', 'annual_inc', 'verification_status',\n",
       "       'purpose', 'dti', 'open_acc', 'pub_rec', 'revol_bal', 'revol_util',\n",
       "       'total_acc', 'initial_list_status', 'application_type', 'mort_acc',\n",
       "       'pub_rec_bankruptcies', 'fico_score', 'month_of_year',\n",
       "       'ratio_loan_amnt_annual_inc', 'ratio_open_acc_total_acc',\n",
       "       'month_since_earliest_cr_line',\n",
       "       'ratio_pub_rec_month_since_earliest_cr_line',\n",
       "       'ratio_pub_rec_bankruptcies_month_since_earliest_cr_line',\n",
       "       'ratio_pub_rec_bankruptcies_pub_rec'],\n",
       "      dtype='object')"
      ]
     },
     "execution_count": 29,
     "metadata": {},
     "output_type": "execute_result"
    }
   ],
   "source": [
    "feature"
   ]
  },
  {
   "cell_type": "code",
   "execution_count": 30,
   "id": "bfc75ca8",
   "metadata": {},
   "outputs": [],
   "source": [
    "y = pd.factorize(df['charged_off'])[0]"
   ]
  },
  {
   "cell_type": "code",
   "execution_count": 31,
   "id": "e19dad93",
   "metadata": {},
   "outputs": [
    {
     "data": {
      "text/plain": [
       "array([0, 1, 0, ..., 0, 0, 0])"
      ]
     },
     "execution_count": 31,
     "metadata": {},
     "output_type": "execute_result"
    }
   ],
   "source": [
    "y"
   ]
  },
  {
   "cell_type": "code",
   "execution_count": 33,
   "id": "544d2794",
   "metadata": {},
   "outputs": [],
   "source": [
    "X = df[feature]"
   ]
  },
  {
   "cell_type": "code",
   "execution_count": 36,
   "id": "bf2fb0b2",
   "metadata": {},
   "outputs": [
    {
     "name": "stdout",
     "output_type": "stream",
     "text": [
      "(817461, 28) (402631, 28) (817461,) (402631,)\n"
     ]
    }
   ],
   "source": [
    "X_train, X_test, y_train, y_test = train_test_split(X, y, test_size=0.33)\n",
    "print(X_train.shape, X_test.shape, y_train.shape, y_test.shape)"
   ]
  },
  {
   "cell_type": "code",
   "execution_count": 49,
   "id": "4a31aa36",
   "metadata": {},
   "outputs": [
    {
     "data": {
      "text/html": [
       "<style>#sk-container-id-4 {color: black;background-color: white;}#sk-container-id-4 pre{padding: 0;}#sk-container-id-4 div.sk-toggleable {background-color: white;}#sk-container-id-4 label.sk-toggleable__label {cursor: pointer;display: block;width: 100%;margin-bottom: 0;padding: 0.3em;box-sizing: border-box;text-align: center;}#sk-container-id-4 label.sk-toggleable__label-arrow:before {content: \"▸\";float: left;margin-right: 0.25em;color: #696969;}#sk-container-id-4 label.sk-toggleable__label-arrow:hover:before {color: black;}#sk-container-id-4 div.sk-estimator:hover label.sk-toggleable__label-arrow:before {color: black;}#sk-container-id-4 div.sk-toggleable__content {max-height: 0;max-width: 0;overflow: hidden;text-align: left;background-color: #f0f8ff;}#sk-container-id-4 div.sk-toggleable__content pre {margin: 0.2em;color: black;border-radius: 0.25em;background-color: #f0f8ff;}#sk-container-id-4 input.sk-toggleable__control:checked~div.sk-toggleable__content {max-height: 200px;max-width: 100%;overflow: auto;}#sk-container-id-4 input.sk-toggleable__control:checked~label.sk-toggleable__label-arrow:before {content: \"▾\";}#sk-container-id-4 div.sk-estimator input.sk-toggleable__control:checked~label.sk-toggleable__label {background-color: #d4ebff;}#sk-container-id-4 div.sk-label input.sk-toggleable__control:checked~label.sk-toggleable__label {background-color: #d4ebff;}#sk-container-id-4 input.sk-hidden--visually {border: 0;clip: rect(1px 1px 1px 1px);clip: rect(1px, 1px, 1px, 1px);height: 1px;margin: -1px;overflow: hidden;padding: 0;position: absolute;width: 1px;}#sk-container-id-4 div.sk-estimator {font-family: monospace;background-color: #f0f8ff;border: 1px dotted black;border-radius: 0.25em;box-sizing: border-box;margin-bottom: 0.5em;}#sk-container-id-4 div.sk-estimator:hover {background-color: #d4ebff;}#sk-container-id-4 div.sk-parallel-item::after {content: \"\";width: 100%;border-bottom: 1px solid gray;flex-grow: 1;}#sk-container-id-4 div.sk-label:hover label.sk-toggleable__label {background-color: #d4ebff;}#sk-container-id-4 div.sk-serial::before {content: \"\";position: absolute;border-left: 1px solid gray;box-sizing: border-box;top: 0;bottom: 0;left: 50%;z-index: 0;}#sk-container-id-4 div.sk-serial {display: flex;flex-direction: column;align-items: center;background-color: white;padding-right: 0.2em;padding-left: 0.2em;position: relative;}#sk-container-id-4 div.sk-item {position: relative;z-index: 1;}#sk-container-id-4 div.sk-parallel {display: flex;align-items: stretch;justify-content: center;background-color: white;position: relative;}#sk-container-id-4 div.sk-item::before, #sk-container-id-4 div.sk-parallel-item::before {content: \"\";position: absolute;border-left: 1px solid gray;box-sizing: border-box;top: 0;bottom: 0;left: 50%;z-index: -1;}#sk-container-id-4 div.sk-parallel-item {display: flex;flex-direction: column;z-index: 1;position: relative;background-color: white;}#sk-container-id-4 div.sk-parallel-item:first-child::after {align-self: flex-end;width: 50%;}#sk-container-id-4 div.sk-parallel-item:last-child::after {align-self: flex-start;width: 50%;}#sk-container-id-4 div.sk-parallel-item:only-child::after {width: 0;}#sk-container-id-4 div.sk-dashed-wrapped {border: 1px dashed gray;margin: 0 0.4em 0.5em 0.4em;box-sizing: border-box;padding-bottom: 0.4em;background-color: white;}#sk-container-id-4 div.sk-label label {font-family: monospace;font-weight: bold;display: inline-block;line-height: 1.2em;}#sk-container-id-4 div.sk-label-container {text-align: center;}#sk-container-id-4 div.sk-container {/* jupyter's `normalize.less` sets `[hidden] { display: none; }` but bootstrap.min.css set `[hidden] { display: none !important; }` so we also need the `!important` here to be able to override the default hidden behavior on the sphinx rendered scikit-learn.org. See: https://github.com/scikit-learn/scikit-learn/issues/21755 */display: inline-block !important;position: relative;}#sk-container-id-4 div.sk-text-repr-fallback {display: none;}</style><div id=\"sk-container-id-4\" class=\"sk-top-container\"><div class=\"sk-text-repr-fallback\"><pre>RandomForestClassifier(class_weight=&#x27;balanced&#x27;, max_depth=10,\n",
       "                       min_samples_leaf=2, min_samples_split=6,\n",
       "                       n_estimators=125, n_jobs=5, random_state=42)</pre><b>In a Jupyter environment, please rerun this cell to show the HTML representation or trust the notebook. <br />On GitHub, the HTML representation is unable to render, please try loading this page with nbviewer.org.</b></div><div class=\"sk-container\" hidden><div class=\"sk-item\"><div class=\"sk-estimator sk-toggleable\"><input class=\"sk-toggleable__control sk-hidden--visually\" id=\"sk-estimator-id-4\" type=\"checkbox\" checked><label for=\"sk-estimator-id-4\" class=\"sk-toggleable__label sk-toggleable__label-arrow\">RandomForestClassifier</label><div class=\"sk-toggleable__content\"><pre>RandomForestClassifier(class_weight=&#x27;balanced&#x27;, max_depth=10,\n",
       "                       min_samples_leaf=2, min_samples_split=6,\n",
       "                       n_estimators=125, n_jobs=5, random_state=42)</pre></div></div></div></div></div>"
      ],
      "text/plain": [
       "RandomForestClassifier(class_weight='balanced', max_depth=10,\n",
       "                       min_samples_leaf=2, min_samples_split=6,\n",
       "                       n_estimators=125, n_jobs=5, random_state=42)"
      ]
     },
     "execution_count": 49,
     "metadata": {},
     "output_type": "execute_result"
    }
   ],
   "source": [
    "model.fit(X_train, y_train)"
   ]
  },
  {
   "cell_type": "code",
   "execution_count": 50,
   "id": "39bdd039",
   "metadata": {},
   "outputs": [],
   "source": [
    "# make predictions\n",
    "yhat = model.predict(X_test)"
   ]
  },
  {
   "cell_type": "code",
   "execution_count": 51,
   "id": "af1e0d36",
   "metadata": {},
   "outputs": [
    {
     "name": "stdout",
     "output_type": "stream",
     "text": [
      "MAE: 0.355\n"
     ]
    }
   ],
   "source": [
    "# evaluate predictions\n",
    "mae = mean_absolute_error(y_test, yhat)\n",
    "print('MAE: %.3f' % mae)"
   ]
  },
  {
   "cell_type": "code",
   "execution_count": 52,
   "id": "2397acb3",
   "metadata": {},
   "outputs": [
    {
     "data": {
      "text/plain": [
       "array([1, 0, 0, ..., 0, 1, 0])"
      ]
     },
     "execution_count": 52,
     "metadata": {},
     "output_type": "execute_result"
    }
   ],
   "source": [
    "yhat"
   ]
  },
  {
   "cell_type": "code",
   "execution_count": 57,
   "id": "43a7116e",
   "metadata": {},
   "outputs": [],
   "source": [
    "from sklearn.metrics import accuracy_score, precision_score, recall_score"
   ]
  },
  {
   "cell_type": "code",
   "execution_count": 54,
   "id": "322f8848",
   "metadata": {},
   "outputs": [
    {
     "data": {
      "text/plain": [
       "0.6445380509697465"
      ]
     },
     "execution_count": 54,
     "metadata": {},
     "output_type": "execute_result"
    }
   ],
   "source": [
    "accuracy_score(y_test, yhat)"
   ]
  },
  {
   "cell_type": "code",
   "execution_count": 56,
   "id": "aaf41d6a",
   "metadata": {},
   "outputs": [
    {
     "data": {
      "text/plain": [
       "0.3145972712426908"
      ]
     },
     "execution_count": 56,
     "metadata": {},
     "output_type": "execute_result"
    }
   ],
   "source": [
    "precision_score(y_test, yhat)"
   ]
  },
  {
   "cell_type": "code",
   "execution_count": 58,
   "id": "47609a2d",
   "metadata": {},
   "outputs": [
    {
     "data": {
      "text/plain": [
       "0.6737955847509685"
      ]
     },
     "execution_count": 58,
     "metadata": {},
     "output_type": "execute_result"
    }
   ],
   "source": [
    "recall_score(y_test, yhat)"
   ]
  },
  {
   "cell_type": "code",
   "execution_count": 59,
   "id": "0488db88",
   "metadata": {},
   "outputs": [
    {
     "ename": "ModuleNotFoundError",
     "evalue": "No module named 'tensorflow_decision_forests'",
     "output_type": "error",
     "traceback": [
      "\u001b[0;31m---------------------------------------------------------------------------\u001b[0m",
      "\u001b[0;31mModuleNotFoundError\u001b[0m                       Traceback (most recent call last)",
      "\u001b[0;32m/var/folders/0b/r_vbfkj16jvg20j0hf5b25y81g1bdd/T/ipykernel_34169/401816866.py\u001b[0m in \u001b[0;36m<module>\u001b[0;34m\u001b[0m\n\u001b[0;32m----> 1\u001b[0;31m \u001b[0;32mimport\u001b[0m \u001b[0mtensorflow_decision_forests\u001b[0m \u001b[0;32mas\u001b[0m \u001b[0mtfdf\u001b[0m\u001b[0;34m\u001b[0m\u001b[0;34m\u001b[0m\u001b[0m\n\u001b[0m",
      "\u001b[0;31mModuleNotFoundError\u001b[0m: No module named 'tensorflow_decision_forests'"
     ]
    }
   ],
   "source": [
    "import tensorflow_decision_forests as tfdf"
   ]
  },
  {
   "cell_type": "code",
   "execution_count": null,
   "id": "3166bf3a",
   "metadata": {},
   "outputs": [],
   "source": []
  }
 ],
 "metadata": {
  "kernelspec": {
   "display_name": "Python 3 (ipykernel)",
   "language": "python",
   "name": "python3"
  },
  "language_info": {
   "codemirror_mode": {
    "name": "ipython",
    "version": 3
   },
   "file_extension": ".py",
   "mimetype": "text/x-python",
   "name": "python",
   "nbconvert_exporter": "python",
   "pygments_lexer": "ipython3",
   "version": "3.9.13"
  }
 },
 "nbformat": 4,
 "nbformat_minor": 5
}
